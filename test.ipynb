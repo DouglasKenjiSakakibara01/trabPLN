{
 "cells": [
  {
   "cell_type": "code",
   "execution_count": 14,
   "metadata": {},
   "outputs": [
    {
     "name": "stdout",
     "output_type": "stream",
     "text": [
      "Avaliacao do sentimento antes do uso de tecnicas pln:\n",
      "-0.6597\n",
      "*-*-*-*-*-*-*-*-*-*-*-*-*-**-*-*-*-*-*-**-*-*-**-*-**-**\n",
      "\n",
      "\n",
      "['Paulo', 'reuters', 'Goldman', 'sachs', 'nyse', 'gs', 'reiterar', 'recomendação', 'compra', 'ação', 'jbs', 'bvmf', 'jbss3', 'elevar', 'preço-alvo', '21,50', 'real', '22,70', 'real', 'analista', 'banco', 'enxergar', 'companhia', 'perto', 'ponto', 'inflexão', 'após', 'primeiro', 'semestre', 'desafiador', 'afirmar', 'thiago', 'Bortoluci', 'terceiro', 'trimestre', 'jbs', 'poder', 'ter', 'ser', 'tão', 'fraco', 'quanto', 'temer', 'algum', 'player', 'mercado', 'embora', 'reconheçamos', 'ajustir', 'cíclico', 'plurianual', 'carne', 'bovino', 'EUA', 'observar', 'carne', 'bovino', 'austrália', 'Brasil', 'escalar', 'compensá-lo', 'escrever', 'relatório', 'enviar', 'cliente', 'final', 'segunda-feira', 'afirmar', 'bom', 'spread', 'dentro', 'pilgrim', \"'\", 's', 'pridir', 'Corporation', 'ppc', 'seara', 'poder', 'apoiar', 'crescimento', 'líquido', 'positivo', 'ebitda', 'futuro', 'após', 'incorporar', 'feedback', 'recente', 'administração', 'câmbio', 'atualizar', 'Bortoluci', 'elevar', 'estimativa', 'ebitda', 'terceiro', 'trimestre', '8,8', '%', '4,756', 'bilhão', 'real', 'margem', 'ebitda', '0,40', 'ponto', 'percentual', '5,2', '%', 'destacar', 'próximo', 'catalisador', 'listagem', 'Estados', 'Unidos', 'acordo', 'administração', 'empresa', 'finalizar', 'documentação', 'regulatório', 'esperar', 'convocar', 'assembleia', 'geral', 'extraordináriar', 'votar', 'assunto', 'próximo', 'semana', \"'\", 'afirmar', 'relatório', 'b3', 'Bvmf', 'b3sa3', 'papel', 'jbs', 'avançar', '1,6', '%', '18,32', 'real', 'começar', 'tarde', 'destoar', 'movimento', 'negativo', 'Bolsa', 'paulista', 'onde', 'ibovespa', 'referênciar', 'mercado', 'acionário', 'brasileiro', 'recuar', '0,77', '%', 'paulo', 'arendr', 'laier']\n",
      "Avaliacao do sentimento apos o uso de tecnicas pln:\n",
      "0.0\n",
      "*-*-*-*-*-*-*-*-*-*-*-*-*-**-*-*-*-*-*-**-*-*-**-*-**-**\n"
     ]
    }
   ],
   "source": [
    "import spacy\n",
    "import sys\n",
    "import utils\n",
    "import nltk\n",
    "from nltk.tokenize import word_tokenize\n",
    "import requests\n",
    "from bs4 import BeautifulSoup\n",
    "from nltk.corpus import stopwords\n",
    "from nltk.sentiment.vader import SentimentIntensityAnalyzer\n",
    "import urllib.request\n",
    "import pandas as pd\n",
    "nlp = spacy.load('pt_core_news_sm')\n",
    "import utils\n",
    "stop_words = set(stopwords.words('portuguese'))\n",
    "headers = {'User-Agent': 'Mozilla/5.0 (X11; Linux x86_64) AppleWebKit/537.36 (KHTML, like Gecko) Chrome/115.0.0.0 Safari/537.36 OPR/101.0.0.0'}\n",
    "url='https://br.investing.com/news/stock-market-news/goldman-sachs-ve-jbs-perto-de-ponto-de-inflexao-e-reitera-compra-1162125'\n",
    "req = urllib.request.Request(url=url, headers=headers) \n",
    "response = urllib.request.urlopen(req)\n",
    "soup = BeautifulSoup(response, 'html.parser')\n",
    "#text = soup.get_text() #Extrai todo o texto do conteúdo HTML\n",
    "span=soup.find_all(\"div\", class_=\"contentSectionDetails\")        \n",
    "h1= soup.find(\"h1\", class_=\"articleHeader\").text\n",
    "body= soup.find(\"div\",class_=\"WYSIWYG articlePage\")\n",
    "div = body.find_all('p')\n",
    "text=[]\n",
    "for i, t in enumerate(div):\n",
    "    if 'Posição adicionada com êxito a' not in t.text:#fica aparecendo no comeco do texto\n",
    "        text.append(t.text)\n",
    "text=' '.join(text)\n",
    "sia = SentimentIntensityAnalyzer()\n",
    "nlp = spacy.load('pt_core_news_sm')\n",
    "sentiment = sia.polarity_scores(text)\n",
    "compoundBefore = sentiment[\"compound\"]#pega a pontuacao geral do sentimento antes da aplicacao das tecnicas pln\n",
    "print(\"Avaliacao do sentimento antes do uso de tecnicas pln:\")\n",
    "print(compoundBefore)\n",
    "print(\"*-*-*-*-*-*-*-*-*-*-*-*-*-**-*-*-*-*-*-**-*-*-**-*-**-**\")\n",
    "text=text.lower() #converte para minusculo as palavras do texto\n",
    "text = word_tokenize(text) #Dividi o texto em unidades menores\n",
    "simbols=['.',',',';', '-', '\"', '(', ')', '”','“', '<', '>', '``',\"''\", ':']\n",
    "text= [word for word in text if word not in simbols] #retira os simbolos de pontuacao\n",
    "text = [word for word in text if word.lower() not in stopwords.words('portuguese')] # retira os stopwords\n",
    "text=' '.join(text)\n",
    "doc = nlp(text)\n",
    "text = [token.lemma_ for token in doc]#lematizacao\n",
    "print('\\n')\n",
    "print(text)\n",
    "text=' '.join(text)\n",
    "sentiment= sia.polarity_scores(text)\n",
    "compoundAfter = sentiment[\"compound\"]#pega o a pontuacao geral do sentimento depois da aplicacao das tecnicas pln\n",
    "print(\"Avaliacao do sentimento apos o uso de tecnicas pln:\")\n",
    "print(compoundAfter)\n",
    "print(\"*-*-*-*-*-*-*-*-*-*-*-*-*-**-*-*-*-*-*-**-*-*-**-*-**-**\")\n",
    "    \n",
    "\n"
   ]
  },
  {
   "cell_type": "code",
   "execution_count": null,
   "metadata": {},
   "outputs": [],
   "source": []
  }
 ],
 "metadata": {
  "kernelspec": {
   "display_name": "Python 3",
   "language": "python",
   "name": "python3"
  },
  "language_info": {
   "codemirror_mode": {
    "name": "ipython",
    "version": 3
   },
   "file_extension": ".py",
   "mimetype": "text/x-python",
   "name": "python",
   "nbconvert_exporter": "python",
   "pygments_lexer": "ipython3",
   "version": "3.9.2"
  },
  "orig_nbformat": 4
 },
 "nbformat": 4,
 "nbformat_minor": 2
}
